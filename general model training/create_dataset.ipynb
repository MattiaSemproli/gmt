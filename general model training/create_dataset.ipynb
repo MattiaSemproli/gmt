{
 "cells": [
  {
   "cell_type": "markdown",
   "metadata": {},
   "source": [
    "**This cell is used to generate a bunch of tranformed images from the original images using a image data generator**"
   ]
  },
  {
   "cell_type": "code",
   "execution_count": null,
   "metadata": {},
   "outputs": [],
   "source": [
    "import tensorflow as tf\n",
    "import os\n",
    "from tensorflow.keras.preprocessing.image import ImageDataGenerator, array_to_img, img_to_array, load_img\n",
    "\n",
    "# Create a data generator\n",
    "datagen = ImageDataGenerator(\n",
    "        rescale=1./255,\n",
    "        rotation_range=40,\n",
    "        width_shift_range=0.2,\n",
    "        height_shift_range=0.2,\n",
    "        shear_range=0.2,\n",
    "        zoom_range=0.2,\n",
    "        horizontal_flip=True,\n",
    "        fill_mode='nearest')\n",
    "\n",
    "# Create a directory to store the augmented images with the name of the class\n",
    "# if you want to create a dataset for your friend's face, then the class name will be your friend's name\n",
    "# for example: \"jhonny\", it will create a directory with the name \"jhonny\" in the data directory (data/jhonny) if it doesn't exist\n",
    "# upload your friend's face image with the name of the class (for example: \"jhonny.jpg\") to the root directory (same directory as this file)\n",
    "class_name = \"name\"\n",
    "os.makedirs(f'data/{class_name}', exist_ok=True)\n",
    "img = load_img(f'{class_name}.jpg')\n",
    "x = img_to_array(img)\n",
    "x = x.reshape((1,) + x.shape)\n",
    "\n",
    "# the .flow() command below generates batches of randomly transformed images\n",
    "# and saves the results to the `data/class_name` directory\n",
    "# for example if we keep the example above, it will save the augmented images to the `data/jhonny` directory\n",
    "# it will generate 'N' augmented images with the name of the class (for example: \"jhonny_0.jpg\", \"jhonny_1.jpg\", \"jhonny_2.jpg\", etc.)\n",
    "# 'N' can be lowered or increased based on your need\n",
    "i = 0\n",
    "N = 100\n",
    "for batch in datagen.flow(x, batch_size=1, save_to_dir=f'data/{class_name}', save_prefix=class_name, save_format='jpg'):\n",
    "    i += 1\n",
    "    if i > N:\n",
    "        break  # break, otherwise the generator would loop indefinitely because there is no limit to the number of images it can generate "
   ]
  },
  {
   "cell_type": "markdown",
   "metadata": {},
   "source": [
    "**This cell is used to generate other transformed images (this time it changes only the brightness of the variants) from a list of images<br>The images in this list are randomly chosen from the transformed images generate from the cell above<br><p style=\"color:red\">RUN THIS CELL ONLY AFTER RUNNING THE CELL ABOVE<br>OTHERWHISE IT WILL RAISE AN ERROR, BECAUSE THERE ARE NO IMAGES TO BE TRANSFORMED !!!</p>**"
   ]
  },
  {
   "cell_type": "code",
   "execution_count": null,
   "metadata": {},
   "outputs": [],
   "source": [
    "import cv2 as cv\n",
    "from matplotlib import pyplot as plt\n",
    "import os\n",
    "import random\n",
    "\n",
    "# Get the current path, then get the wanted folder path\n",
    "# using the same example we used above, it will be \"data/jhonny\"\n",
    "curr_path = os.getcwd()\n",
    "wanted_folder = os.path.join(curr_path, f'data\\\\{class_name}')\n",
    "\n",
    "# Generate 'N' random numbers between 0 and N + 1 (because the upper limit in the range function is exclusive)\n",
    "# 'N' is the number of images we generated in the cell above\n",
    "# for example, if we keep the example above, it will generate 50 random numbers between 0 and 101\n",
    "# this line is meant to generate transformed images with different brightness levels for half of the images we generated before\n",
    "rnds = sorted(random.sample(range(0, N + 1), N / 2))\n",
    "\n",
    "# Loop through the wanted folder and apply the brightness transformation to the images with the random numbers we generated\n",
    "# I decided to use random numbers to make the process more random and to avoid applying the same transformation to the same image\n",
    "# it will generate them in the same folder as the images we generated before obviously\n",
    "# they will have class_name_i_val.jpg as a name (class name is the name of the class, i is the index of the image, and val is the brightness level)\n",
    "# keeping the same example, it will generate images with the names \"jhonny_i_0.4.jpg\", \"jhonny_i_0.6.jpg\", ..., \"jhonny_i_2.jpg\"\n",
    "i = 0\n",
    "for image in os.listdir(wanted_folder):\n",
    "    if i in rnds:\n",
    "        img = cv.imread(f\"data/{class_name}/{image}\")\n",
    "        for val in [0.4, 0.6, 1.4, 1.6, 1.8, 2]:\n",
    "            img = cv.convertScaleAbs(img, alpha=val, beta=0)\n",
    "            cv.imwrite(f\"{class_name}_{i}_{val}.jpg\", img)\n",
    "    i=i+1"
   ]
  },
  {
   "cell_type": "markdown",
   "metadata": {},
   "source": [
    "\n",
    "**This cell is used to generate only a little dataset from the original image<br><p style=\"color:red\">IT IS ONLY MEANT AS AN EXAMPLE, USE THE CELLS ABOVE !!!</p>**"
   ]
  },
  {
   "cell_type": "code",
   "execution_count": null,
   "metadata": {},
   "outputs": [],
   "source": [
    "import cv2\n",
    "import numpy as np\n",
    "\n",
    "# Upload the image whose dataset you want to obtain\n",
    "image = cv2.imread('test.jpg')\n",
    "\n",
    "# Horizontal reflection\n",
    "flipped_horizontal = cv2.flip(image, 1)\n",
    "\n",
    "# Vertical reflection\n",
    "flipped_vertical = cv2.flip(image, 0)\n",
    "\n",
    "# Rotation\n",
    "rows, cols = image.shape[:2]\n",
    "rotation_matrix = cv2.getRotationMatrix2D((cols/2, rows/2), 45, 1)\n",
    "rotated = cv2.warpAffine(image, rotation_matrix, (cols, rows))\n",
    "\n",
    "# Zoom\n",
    "zoomed_out = cv2.resize(image, None, fx=0.5, fy=0.5, interpolation=cv2.INTER_LINEAR)\n",
    "zoomed_in = cv2.resize(image, None, fx=2, fy=2, interpolation=cv2.INTER_LINEAR)\n",
    "\n",
    "# Upscale brightness\n",
    "brightened = cv2.convertScaleAbs(image, alpha=1.5, beta=0)\n",
    "\n",
    "# Upscale saturation\n",
    "hsv = cv2.cvtColor(image, cv2.COLOR_BGR2HSV)\n",
    "hsv[..., 1] = hsv[..., 1] * 1.5\n",
    "saturated = cv2.cvtColor(hsv, cv2.COLOR_HSV2BGR)\n",
    "\n",
    "def resize (img):\n",
    "    return cv2.resize(img, None, None, .1, .1)\n",
    "\n",
    "# Save the images\n",
    "cv2.imwrite('Original.jpg', image)\n",
    "cv2.imwrite('FlippedHorizontal.jpg', flipped_horizontal)\n",
    "cv2.imwrite('FlippedVertical.jpg', flipped_vertical)\n",
    "cv2.imwrite('Rotated.jpg', rotated)\n",
    "cv2.imwrite('ZoomedOut.jpg', zoomed_out)\n",
    "cv2.imwrite('ZoomedIn.jpg', zoomed_in)\n",
    "cv2.imwrite('Brightened.jpg', brightened)\n",
    "cv2.imwrite('Saturated.jpg', saturated)"
   ]
  }
 ],
 "metadata": {
  "kernelspec": {
   "display_name": "Python 3",
   "language": "python",
   "name": "python3"
  },
  "language_info": {
   "codemirror_mode": {
    "name": "ipython",
    "version": 3
   },
   "file_extension": ".py",
   "mimetype": "text/x-python",
   "name": "python",
   "nbconvert_exporter": "python",
   "pygments_lexer": "ipython3",
   "version": "3.12.2"
  }
 },
 "nbformat": 4,
 "nbformat_minor": 2
}
